{
 "cells": [
  {
   "cell_type": "code",
   "execution_count": 1,
   "id": "25d4c827",
   "metadata": {},
   "outputs": [],
   "source": [
    "import duckdb\n",
    "import os\n",
    "\n",
    "# This makes will check to see if you are in the notebooks\n",
    "# directory and if so, change working directory\n",
    "# to root directory\n",
    "if \"notebooks\" in os.getcwd():\n",
    "    os.chdir(\"..\")"
   ]
  },
  {
   "cell_type": "code",
   "execution_count": 2,
   "id": "dc7b8213",
   "metadata": {},
   "outputs": [
    {
     "data": {
      "text/html": [
       "<div>\n",
       "<style scoped>\n",
       "    .dataframe tbody tr th:only-of-type {\n",
       "        vertical-align: middle;\n",
       "    }\n",
       "\n",
       "    .dataframe tbody tr th {\n",
       "        vertical-align: top;\n",
       "    }\n",
       "\n",
       "    .dataframe thead th {\n",
       "        text-align: right;\n",
       "    }\n",
       "</style>\n",
       "<table border=\"1\" class=\"dataframe\">\n",
       "  <thead>\n",
       "    <tr style=\"text-align: right;\">\n",
       "      <th></th>\n",
       "      <th>release_year</th>\n",
       "      <th>mpaa_rating</th>\n",
       "      <th>major_genres</th>\n",
       "      <th>total_worldwide_gross</th>\n",
       "    </tr>\n",
       "  </thead>\n",
       "  <tbody>\n",
       "    <tr>\n",
       "      <th>0</th>\n",
       "      <td>2007</td>\n",
       "      <td>Not Rated</td>\n",
       "      <td>Thriller/Suspense</td>\n",
       "      <td>1.843500e+04</td>\n",
       "    </tr>\n",
       "    <tr>\n",
       "      <th>1</th>\n",
       "      <td>1994</td>\n",
       "      <td>R</td>\n",
       "      <td>Romantic Comedy</td>\n",
       "      <td>2.428958e+08</td>\n",
       "    </tr>\n",
       "    <tr>\n",
       "      <th>2</th>\n",
       "      <td>1977</td>\n",
       "      <td>None</td>\n",
       "      <td>Comedy</td>\n",
       "      <td>5.825142e+07</td>\n",
       "    </tr>\n",
       "    <tr>\n",
       "      <th>3</th>\n",
       "      <td>1959</td>\n",
       "      <td>None</td>\n",
       "      <td>Romantic Comedy</td>\n",
       "      <td>2.460000e+07</td>\n",
       "    </tr>\n",
       "    <tr>\n",
       "      <th>4</th>\n",
       "      <td>2007</td>\n",
       "      <td>R</td>\n",
       "      <td>Action</td>\n",
       "      <td>1.095383e+09</td>\n",
       "    </tr>\n",
       "  </tbody>\n",
       "</table>\n",
       "</div>"
      ],
      "text/plain": [
       "   release_year mpaa_rating       major_genres  total_worldwide_gross\n",
       "0          2007   Not Rated  Thriller/Suspense           1.843500e+04\n",
       "1          1994           R    Romantic Comedy           2.428958e+08\n",
       "2          1977        None             Comedy           5.825142e+07\n",
       "3          1959        None    Romantic Comedy           2.460000e+07\n",
       "4          2007           R             Action           1.095383e+09"
      ]
     },
     "execution_count": 2,
     "metadata": {},
     "output_type": "execute_result"
    }
   ],
   "source": [
    "def get_connection():\n",
    "    db_path = os.path.join(\n",
    "        os.getcwd(),\n",
    "        \"dbt\",\n",
    "        \"database\",\n",
    "        \"dev\",\n",
    "        \"git_r_done_enterprises.duckdb\",\n",
    "    )\n",
    "    return duckdb.connect(db_path, read_only=True)\n",
    "\n",
    "\n",
    "conn = get_connection()\n",
    "\n",
    "df = conn.execute(\"\"\"\n",
    "            SELECT *\n",
    "            FROM sample_model\n",
    "        \"\"\").fetchdf()\n",
    "\n",
    "df.head()"
   ]
  }
 ],
 "metadata": {
  "kernelspec": {
   "display_name": ".venv",
   "language": "python",
   "name": "python3"
  },
  "language_info": {
   "codemirror_mode": {
    "name": "ipython",
    "version": 3
   },
   "file_extension": ".py",
   "mimetype": "text/x-python",
   "name": "python",
   "nbconvert_exporter": "python",
   "pygments_lexer": "ipython3",
   "version": "3.12.10"
  }
 },
 "nbformat": 4,
 "nbformat_minor": 5
}
