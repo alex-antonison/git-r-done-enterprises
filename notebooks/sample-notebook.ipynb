{
 "cells": [
  {
   "cell_type": "code",
   "execution_count": 8,
   "id": "25d4c827",
   "metadata": {},
   "outputs": [],
   "source": [
    "import duckdb\n",
    "import os\n",
    "\n",
    "# This makes will check to see if you are in the notebooks\n",
    "# directory and if so, change working directory\n",
    "# to root directory\n",
    "if \"notebooks\" in os.getcwd():\n",
    "    os.chdir(\"..\")"
   ]
  },
  {
   "cell_type": "code",
   "execution_count": 9,
   "id": "dc7b8213",
   "metadata": {},
   "outputs": [
    {
     "data": {
      "text/html": [
       "<div>\n",
       "<style scoped>\n",
       "    .dataframe tbody tr th:only-of-type {\n",
       "        vertical-align: middle;\n",
       "    }\n",
       "\n",
       "    .dataframe tbody tr th {\n",
       "        vertical-align: top;\n",
       "    }\n",
       "\n",
       "    .dataframe thead th {\n",
       "        text-align: right;\n",
       "    }\n",
       "</style>\n",
       "<table border=\"1\" class=\"dataframe\">\n",
       "  <thead>\n",
       "    <tr style=\"text-align: right;\">\n",
       "      <th></th>\n",
       "      <th>release_year</th>\n",
       "      <th>mpaa_rating</th>\n",
       "      <th>major_genres</th>\n",
       "      <th>sum(worldwide_gross)</th>\n",
       "    </tr>\n",
       "  </thead>\n",
       "  <tbody>\n",
       "    <tr>\n",
       "      <th>0</th>\n",
       "      <td>1986</td>\n",
       "      <td>R</td>\n",
       "      <td>None</td>\n",
       "      <td>6341825.0</td>\n",
       "    </tr>\n",
       "    <tr>\n",
       "      <th>1</th>\n",
       "      <td>1995</td>\n",
       "      <td>R</td>\n",
       "      <td>Comedy</td>\n",
       "      <td>159716465.0</td>\n",
       "    </tr>\n",
       "    <tr>\n",
       "      <th>2</th>\n",
       "      <td>1981</td>\n",
       "      <td>None</td>\n",
       "      <td>Comedy</td>\n",
       "      <td>123460963.0</td>\n",
       "    </tr>\n",
       "    <tr>\n",
       "      <th>3</th>\n",
       "      <td>1962</td>\n",
       "      <td>None</td>\n",
       "      <td>Drama</td>\n",
       "      <td>19250000.0</td>\n",
       "    </tr>\n",
       "    <tr>\n",
       "      <th>4</th>\n",
       "      <td>1986</td>\n",
       "      <td>None</td>\n",
       "      <td>Drama</td>\n",
       "      <td>250778586.0</td>\n",
       "    </tr>\n",
       "  </tbody>\n",
       "</table>\n",
       "</div>"
      ],
      "text/plain": [
       "   release_year mpaa_rating major_genres  sum(worldwide_gross)\n",
       "0          1986           R         None             6341825.0\n",
       "1          1995           R       Comedy           159716465.0\n",
       "2          1981        None       Comedy           123460963.0\n",
       "3          1962        None        Drama            19250000.0\n",
       "4          1986        None        Drama           250778586.0"
      ]
     },
     "execution_count": 9,
     "metadata": {},
     "output_type": "execute_result"
    }
   ],
   "source": [
    "def get_connection():\n",
    "    db_path = os.path.join(\n",
    "        os.getcwd(),\n",
    "        \"dbt\",\n",
    "        \"database\",\n",
    "        \"dev\",\n",
    "        \"git_r_done_enterprises.duckdb\",\n",
    "    )\n",
    "    return duckdb.connect(db_path, read_only=True)\n",
    "\n",
    "\n",
    "conn = get_connection()\n",
    "\n",
    "df = conn.execute(\"\"\"\n",
    "            SELECT *\n",
    "            FROM sample_model\n",
    "        \"\"\").fetchdf()\n",
    "\n",
    "df.head()"
   ]
  }
 ],
 "metadata": {
  "kernelspec": {
   "display_name": ".venv",
   "language": "python",
   "name": "python3"
  },
  "language_info": {
   "codemirror_mode": {
    "name": "ipython",
    "version": 3
   },
   "file_extension": ".py",
   "mimetype": "text/x-python",
   "name": "python",
   "nbconvert_exporter": "python",
   "pygments_lexer": "ipython3",
   "version": "3.12.10"
  }
 },
 "nbformat": 4,
 "nbformat_minor": 5
}
