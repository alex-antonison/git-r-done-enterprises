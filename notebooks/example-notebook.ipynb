{
 "cells": [
  {
   "cell_type": "code",
   "execution_count": null,
   "id": "25d4c827",
   "metadata": {},
   "outputs": [],
   "source": [
    "import duckdb\n",
    "import os\n",
    "\n",
    "# This makes will check to see if you are in the notebooks\n",
    "# directory and if so, change working directory\n",
    "# to root directory\n",
    "if \"notebooks\" in os.getcwd():\n",
    "    os.chdir(\"..\")"
   ]
  },
  {
   "cell_type": "code",
   "execution_count": null,
   "id": "dc7b8213",
   "metadata": {},
   "outputs": [],
   "source": [
    "def get_connection():\n",
    "    db_path = os.path.join(\n",
    "        os.getcwd(),\n",
    "        \"dbt\",\n",
    "        \"database\",\n",
    "        \"dev\",\n",
    "        \"git_r_done_enterprises.duckdb\",\n",
    "    )\n",
    "    return duckdb.connect(db_path, read_only=True)\n",
    "\n",
    "\n",
    "conn = get_connection()\n",
    "\n",
    "df = conn.execute(\"\"\"\n",
    "            SELECT *\n",
    "            FROM stg_movies\n",
    "        \"\"\").fetchdf()\n",
    "\n",
    "df.head()"
   ]
  }
 ],
 "metadata": {
  "kernelspec": {
   "display_name": ".venv",
   "language": "python",
   "name": "python3"
  },
  "language_info": {
   "codemirror_mode": {
    "name": "ipython",
    "version": 3
   },
   "file_extension": ".py",
   "mimetype": "text/x-python",
   "name": "python",
   "nbconvert_exporter": "python",
   "pygments_lexer": "ipython3",
   "version": "3.12.10"
  }
 },
 "nbformat": 4,
 "nbformat_minor": 5
}
