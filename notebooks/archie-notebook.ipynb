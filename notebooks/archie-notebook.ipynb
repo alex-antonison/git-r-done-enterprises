{
 "cells": [
  {
   "cell_type": "code",
   "execution_count": 1,
   "id": "25d4c827",
   "metadata": {},
   "outputs": [],
   "source": [
    "import duckdb\n",
    "import os\n",
    "\n",
    "# This makes will check to see if you are in the notebooks\n",
    "# directory and if so, change working directory\n",
    "# to root directory\n",
    "if \"notebooks\" in os.getcwd():\n",
    "    os.chdir(\"..\")"
   ]
  },
  {
   "cell_type": "code",
   "execution_count": 3,
   "id": "dc7b8213",
   "metadata": {},
   "outputs": [
    {
     "data": {
      "text/html": [
       "<div>\n",
       "<style scoped>\n",
       "    .dataframe tbody tr th:only-of-type {\n",
       "        vertical-align: middle;\n",
       "    }\n",
       "\n",
       "    .dataframe tbody tr th {\n",
       "        vertical-align: top;\n",
       "    }\n",
       "\n",
       "    .dataframe thead th {\n",
       "        text-align: right;\n",
       "    }\n",
       "</style>\n",
       "<table border=\"1\" class=\"dataframe\">\n",
       "  <thead>\n",
       "    <tr style=\"text-align: right;\">\n",
       "      <th></th>\n",
       "      <th>release_year</th>\n",
       "      <th>director</th>\n",
       "      <th>avg_rating</th>\n",
       "    </tr>\n",
       "  </thead>\n",
       "  <tbody>\n",
       "    <tr>\n",
       "      <th>0</th>\n",
       "      <td>2008</td>\n",
       "      <td>Darren Aronofsky</td>\n",
       "      <td>98.0</td>\n",
       "    </tr>\n",
       "  </tbody>\n",
       "</table>\n",
       "</div>"
      ],
      "text/plain": [
       "   release_year          director  avg_rating\n",
       "0          2008  Darren Aronofsky        98.0"
      ]
     },
     "execution_count": 3,
     "metadata": {},
     "output_type": "execute_result"
    }
   ],
   "source": [
    "def get_connection():\n",
    "    db_path = os.path.join(\n",
    "        os.getcwd(),\n",
    "        \"dbt\",\n",
    "        \"database\",\n",
    "        \"dev\",\n",
    "        \"git_r_done_enterprises.duckdb\",\n",
    "    )\n",
    "    return duckdb.connect(db_path, read_only=True)\n",
    "\n",
    "\n",
    "conn = get_connection()\n",
    "\n",
    "df = conn.execute(\"\"\"\n",
    "            SELECT *\n",
    "            FROM archie_model\n",
    "        \"\"\").fetchdf()\n",
    "\n",
    "df.head()"
   ]
  }
 ],
 "metadata": {
  "kernelspec": {
   "display_name": ".venv",
   "language": "python",
   "name": "python3"
  },
  "language_info": {
   "codemirror_mode": {
    "name": "ipython",
    "version": 3
   },
   "file_extension": ".py",
   "mimetype": "text/x-python",
   "name": "python",
   "nbconvert_exporter": "python",
   "pygments_lexer": "ipython3",
   "version": "3.12.10"
  }
 },
 "nbformat": 4,
 "nbformat_minor": 5
}
